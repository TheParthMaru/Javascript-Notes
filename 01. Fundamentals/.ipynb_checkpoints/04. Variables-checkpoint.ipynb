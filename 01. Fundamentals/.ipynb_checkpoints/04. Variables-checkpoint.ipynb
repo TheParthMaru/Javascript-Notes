{
 "cells": [
  {
   "cell_type": "markdown",
   "id": "04a0f7c6",
   "metadata": {},
   "source": [
    "# Variables"
   ]
  },
  {
   "cell_type": "markdown",
   "id": "b5298d2a",
   "metadata": {},
   "source": [
    "- Storage space to store data."
   ]
  },
  {
   "cell_type": "markdown",
   "id": "e2c4a8e9",
   "metadata": {},
   "source": [
    "## `let` keyword"
   ]
  },
  {
   "cell_type": "markdown",
   "id": "f1e586f4",
   "metadata": {},
   "source": [
    "- Use to declare variables.\n",
    "\n",
    "**Syntax**\n",
    "```js\n",
    "let variableName = value;\n",
    "```"
   ]
  },
  {
   "cell_type": "code",
   "execution_count": 1,
   "id": "14b55a44",
   "metadata": {},
   "outputs": [
    {
     "name": "stdout",
     "output_type": "stream",
     "text": [
      "parth\n"
     ]
    }
   ],
   "source": [
    "let name = \"parth\";\n",
    "\n",
    "console.log(name);"
   ]
  },
  {
   "cell_type": "code",
   "execution_count": 6,
   "id": "3256053d",
   "metadata": {},
   "outputs": [
    {
     "name": "stdout",
     "output_type": "stream",
     "text": [
      "25\n"
     ]
    }
   ],
   "source": [
    "let age = 25;\n",
    "console.log(age);"
   ]
  },
  {
   "cell_type": "markdown",
   "id": "7f583f5d",
   "metadata": {},
   "source": [
    "## Variable naming conventions"
   ]
  },
  {
   "cell_type": "markdown",
   "id": "1d5dc84d",
   "metadata": {},
   "source": [
    "- Variables can contain alphabets both lower case and upper case, digits, `$` and `_`.\n",
    "- Variable name cannot start with a digit.\n",
    "- It cannot contain any other symbols other than `$` and underscore.\n",
    "- You cannot use reserved keywords as variable name.\n",
    "- Use camelCase as a naming convention to join two or more words."
   ]
  },
  {
   "cell_type": "markdown",
   "id": "9e3a0269",
   "metadata": {},
   "source": [
    "### Valid variable names"
   ]
  },
  {
   "cell_type": "code",
   "execution_count": null,
   "id": "424fcd88",
   "metadata": {},
   "outputs": [],
   "source": [
    "let name = \"Parth\";\n",
    "let age = 32;\n",
    "let $salary = 30000.00;\n",
    "let _city = \"Mumbai\";\n",
    "let name2 = \"Jay\";"
   ]
  },
  {
   "cell_type": "markdown",
   "id": "8676afac",
   "metadata": {},
   "source": [
    "### Invalid variable names"
   ]
  },
  {
   "cell_type": "code",
   "execution_count": null,
   "id": "55ab7beb",
   "metadata": {},
   "outputs": [],
   "source": [
    "let 2days = 98;\n",
    "let em@ail = \"parth@gmail.com\";\n",
    "let full name = \"parth maru\";\n",
    "let my-name = \"parth maru\";\n",
    "let let = 89; // Using a reserved keyword is prohibited."
   ]
  },
  {
   "cell_type": "markdown",
   "id": "e1b3da9b",
   "metadata": {},
   "source": [
    "## `var` keyword\n",
    "- Also used to create variables.\n",
    "- Its use case will be explored in functions."
   ]
  },
  {
   "cell_type": "markdown",
   "id": "f200d726",
   "metadata": {},
   "source": [
    "## `const` keyword"
   ]
  },
  {
   "cell_type": "markdown",
   "id": "da0603db",
   "metadata": {},
   "source": [
    "- Used to create constants.\n",
    "- Once you initialized a constant with any value, you cannot change the value.\n",
    "- Changing the data will throw an error."
   ]
  },
  {
   "cell_type": "code",
   "execution_count": 10,
   "id": "64c34a2e",
   "metadata": {},
   "outputs": [
    {
     "name": "stdout",
     "output_type": "stream",
     "text": [
      "3.142\n"
     ]
    }
   ],
   "source": [
    "const PI = 3.142;\n",
    "console.log(PI)"
   ]
  },
  {
   "cell_type": "code",
   "execution_count": 11,
   "id": "ba57c2d1",
   "metadata": {},
   "outputs": [
    {
     "ename": "TypeError",
     "evalue": "Assignment to constant variable.",
     "output_type": "error",
     "traceback": [
      "evalmachine.<anonymous>:1",
      "PI = 3.1427;",
      "   ^",
      "",
      "TypeError: Assignment to constant variable.",
      "    at evalmachine.<anonymous>:1:4",
      "    at Script.runInThisContext (node:vm:129:12)",
      "    at Object.runInThisContext (node:vm:307:38)",
      "    at run ([eval]:1020:15)",
      "    at onRunRequest ([eval]:864:18)",
      "    at onMessage ([eval]:828:13)",
      "    at process.emit (node:events:513:28)",
      "    at emit (node:internal/child_process:937:14)",
      "    at process.processTicksAndRejections (node:internal/process/task_queues:83:21)"
     ]
    }
   ],
   "source": [
    "PI = 3.1427;"
   ]
  },
  {
   "cell_type": "markdown",
   "id": "1ab4ad69",
   "metadata": {},
   "source": [
    "## "
   ]
  },
  {
   "cell_type": "markdown",
   "id": "c2df3529",
   "metadata": {},
   "source": [
    "## Variable declaration vs definition vs initialization"
   ]
  },
  {
   "cell_type": "code",
   "execution_count": null,
   "id": "6e4364ea",
   "metadata": {},
   "outputs": [],
   "source": [
    "// Variable declaration\n",
    "let city;\n",
    "\n",
    "// Variable initialization\n",
    "city = \"surat\";\n",
    "\n",
    "// Variable definition\n",
    "let score = 69;"
   ]
  },
  {
   "cell_type": "markdown",
   "id": "b3141982",
   "metadata": {},
   "source": [
    "- We always need to define the constants otherwise it will throw error."
   ]
  },
  {
   "cell_type": "code",
   "execution_count": 12,
   "id": "9600b4a6",
   "metadata": {},
   "outputs": [
    {
     "ename": "SyntaxError",
     "evalue": "Missing initializer in const declaration",
     "output_type": "error",
     "traceback": [
      "evalmachine.<anonymous>:1",
      "const SUM;",
      "      ^^^",
      "",
      "SyntaxError: Missing initializer in const declaration",
      "    at new Script (node:vm:100:7)",
      "    at createScript (node:vm:259:10)",
      "    at Object.runInThisContext (node:vm:307:10)",
      "    at run ([eval]:1020:15)",
      "    at onRunRequest ([eval]:864:18)",
      "    at onMessage ([eval]:828:13)",
      "    at process.emit (node:events:513:28)",
      "    at emit (node:internal/child_process:937:14)",
      "    at process.processTicksAndRejections (node:internal/process/task_queues:83:21)"
     ]
    }
   ],
   "source": [
    "const SUM;"
   ]
  }
 ],
 "metadata": {
  "kernelspec": {
   "display_name": "JavaScript (Node.js)",
   "language": "javascript",
   "name": "javascript"
  },
  "language_info": {
   "file_extension": ".js",
   "mimetype": "application/javascript",
   "name": "javascript",
   "version": "18.13.0"
  }
 },
 "nbformat": 4,
 "nbformat_minor": 5
}
