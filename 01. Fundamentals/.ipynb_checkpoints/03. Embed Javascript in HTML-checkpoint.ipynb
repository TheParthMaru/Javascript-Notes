{
 "cells": [
  {
   "cell_type": "markdown",
   "id": "949f28f9",
   "metadata": {},
   "source": [
    "- There are couple of ways to embed Javascript in HTML."
   ]
  },
  {
   "cell_type": "markdown",
   "id": "bb6af492",
   "metadata": {},
   "source": [
    "## Using `<script>` element inside `<head>`"
   ]
  },
  {
   "cell_type": "markdown",
   "id": "d3920d15",
   "metadata": {},
   "source": [
    "- Create a HTML file and add the following code in it and open it with your browser.\n",
    "- Go to the developer options => console."
   ]
  },
  {
   "cell_type": "markdown",
   "id": "d57384e0",
   "metadata": {},
   "source": [
    "```html\n",
    "<!-- index.html -->\n",
    "<!DOCTYPE html>\n",
    "<html lang=\"en\">\n",
    "    <head>\n",
    "        <title>Javascript Rocks</title>\n",
    "        \n",
    "        <script>\n",
    "            console.log(\"Hello World\");\n",
    "        </script>\n",
    "    </head>\n",
    "</html>\n",
    "```"
   ]
  },
  {
   "cell_type": "markdown",
   "id": "27248107",
   "metadata": {},
   "source": [
    "**Output**"
   ]
  },
  {
   "attachments": {
    "image.png": {
     "image/png": "[encoded data removed]"
    }
   },
   "cell_type": "markdown",
   "id": "e99b7522",
   "metadata": {},
   "source": [
    "![image.png](attachment:image.png)"
   ]
  },
  {
   "cell_type": "markdown",
   "id": "9788184e",
   "metadata": {},
   "source": [
    "- The above code will work same if you add `<script>` element to `<body>`."
   ]
  },
  {
   "cell_type": "markdown",
   "id": "da800968",
   "metadata": {},
   "source": [
    "## Using external script"
   ]
  },
  {
   "cell_type": "markdown",
   "id": "09581715",
   "metadata": {},
   "source": [
    "**index.html**"
   ]
  },
  {
   "cell_type": "markdown",
   "id": "c626145a",
   "metadata": {},
   "source": [
    "```html\n",
    "<!DOCTYPE html>\n",
    "<html lang=\"en\">\n",
    "    <head>\n",
    "        <title>Javascript Rocks</title>\n",
    "    </head>\n",
    "    \n",
    "    <body>\n",
    "        <!-- Importing the script.js file -->\n",
    "        <script src=\"script.js\"></script>\n",
    "    </body>\n",
    "</html>\n",
    "```"
   ]
  },
  {
   "cell_type": "markdown",
   "id": "236eacdc",
   "metadata": {},
   "source": [
    "**script.js**"
   ]
  },
  {
   "cell_type": "code",
   "execution_count": 1,
   "id": "dd67def6",
   "metadata": {},
   "outputs": [
    {
     "name": "stdout",
     "output_type": "stream",
     "text": [
      "Hello World\n"
     ]
    }
   ],
   "source": [
    "console.log(\"Hello World\");"
   ]
  },
  {
   "cell_type": "markdown",
   "id": "0695893d",
   "metadata": {},
   "source": [
    "**Note**\n",
    "- Internal Javascript will be ignored when `<script>` has `src` attribute."
   ]
  }
 ],
 "metadata": {
  "kernelspec": {
   "display_name": "JavaScript (Node.js)",
   "language": "javascript",
   "name": "javascript"
  },
  "language_info": {
   "file_extension": ".js",
   "mimetype": "application/javascript",
   "name": "javascript",
   "version": "18.13.0"
  }
 },
 "nbformat": 4,
 "nbformat_minor": 5
}
