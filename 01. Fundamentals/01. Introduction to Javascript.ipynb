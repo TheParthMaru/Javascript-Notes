{
 "cells": [
  {
   "cell_type": "markdown",
   "id": "dcad7bb1",
   "metadata": {},
   "source": [
    "# What is Javascript?"
   ]
  },
  {
   "cell_type": "markdown",
   "id": "732b5c19",
   "metadata": {},
   "source": [
    "- A programming language that adds dynamic content to a web page.\n",
    "- The javascript code can be embedded within an HTML and can be executed on the browser.\n",
    "- Javascript can also execute outside browser with the help of Node.js.\n",
    "- Javascript was earlier called as Livescript but because of popularity of Java at that time, it got renamed to Javascript just to create a hype about the language.\n",
    "- It is not at all similar to Java and has no relation with it.\n",
    "- Javascript is a fully independent language with its own specification called as ECMAScript.\n",
    "- Javascript has full integration with HTML and CSS.\n",
    "- It is supported by all major browsers and is enabled by default."
   ]
  },
  {
   "cell_type": "markdown",
   "id": "305aa9bc",
   "metadata": {},
   "source": [
    "## Where can you execute Javascript?"
   ]
  },
  {
   "cell_type": "markdown",
   "id": "d74e6bd6",
   "metadata": {},
   "source": [
    "- Javascript can be executed on any device having Javascript engine on it.\n",
    "- Every browser has an engine embedded in it called as \"Javascript virtual machine\".\n",
    "- Two most famous Javascript engines are as follows:\n",
    "    - V8: For Chrome, Opera and Edge.\n",
    "    - Spider Monkey: For Firefox"
   ]
  },
  {
   "cell_type": "markdown",
   "id": "9f3d90b6",
   "metadata": {},
   "source": [
    "## How does a Javascript engine work?"
   ]
  },
  {
   "cell_type": "markdown",
   "id": "1a3629d7",
   "metadata": {},
   "source": [
    "- The engine is embedded inside a browser.\n",
    "- It reads or parses the code.\n",
    "- Then it converts or compiles the script to a machine code which is pretty fast in execution.\n",
    "- This machine code is then executed in the browser.\n",
    "- The engine also applies optimization at each step."
   ]
  },
  {
   "cell_type": "markdown",
   "id": "0ed3d028",
   "metadata": {},
   "source": [
    "## Capabilities of in-browser Javascript"
   ]
  },
  {
   "cell_type": "markdown",
   "id": "9cce52e0",
   "metadata": {},
   "source": [
    "- Can do anything related to webpage manipulation, interaction with user and the webserver.\n",
    "- Add new HTML to a page, change the existing content, modify styles.\n",
    "- Reacts to user actions like mouse click, key pressed on keyboard, etc.\n",
    "- Send requests to the remote servers.\n",
    "- Download and upload files.\n",
    "- Get and set cookies.\n",
    "- Ask questions to visitors.\n",
    "- Show messages.\n",
    "- Store the data on the client-side local storage (cache)."
   ]
  },
  {
   "cell_type": "markdown",
   "id": "a7fb6aae",
   "metadata": {},
   "source": [
    "## What can't in-browser Javascript do?"
   ]
  },
  {
   "cell_type": "markdown",
   "id": "2eeaf6d5",
   "metadata": {},
   "source": [
    "- Does not provide low-level access to memory or CPU as it was initially created for browsers which do not require it.\n",
    "- May not read/write files on the disk, run or execute the files on the disk or copy or move them.\n",
    "- It has no direct access to OS functions.\n",
    "- Although modern browsers allows to interact with users files, but the access is limited.\n",
    "- Requires explicit permission to interact with connected devices like Camera, Microphone, etc.\n",
    "- Different tabs and windows generally do not know about each other.\n",
    "- Some of the above functions like working with CPU memory or OS functionality can be achieved with the help of Node.js"
   ]
  }
 ],
 "metadata": {
  "kernelspec": {
   "display_name": "JavaScript (Node.js)",
   "language": "javascript",
   "name": "javascript"
  },
  "language_info": {
   "file_extension": ".js",
   "mimetype": "application/javascript",
   "name": "javascript",
   "version": "18.13.0"
  }
 },
 "nbformat": 4,
 "nbformat_minor": 5
}
